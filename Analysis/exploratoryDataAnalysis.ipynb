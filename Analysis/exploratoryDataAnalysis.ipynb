{
 "cells": [
  {
   "cell_type": "code",
   "execution_count": 27,
   "metadata": {},
   "outputs": [
    {
     "ename": "ModuleNotFoundError",
     "evalue": "No module named 'pandas'",
     "output_type": "error",
     "traceback": [
      "\u001b[31m---------------------------------------------------------------------------\u001b[39m",
      "\u001b[31mModuleNotFoundError\u001b[39m                       Traceback (most recent call last)",
      "\u001b[36mCell\u001b[39m\u001b[36m \u001b[39m\u001b[32mIn[27]\u001b[39m\u001b[32m, line 1\u001b[39m\n\u001b[32m----> \u001b[39m\u001b[32m1\u001b[39m \u001b[38;5;28;01mimport\u001b[39;00m\u001b[38;5;250m \u001b[39m\u001b[34;01mpandas\u001b[39;00m\u001b[38;5;250m \u001b[39m\u001b[38;5;28;01mas\u001b[39;00m\u001b[38;5;250m \u001b[39m\u001b[34;01mpd\u001b[39;00m\n\u001b[32m      2\u001b[39m \u001b[38;5;28;01mimport\u001b[39;00m\u001b[38;5;250m \u001b[39m\u001b[34;01mos\u001b[39;00m\n\u001b[32m      3\u001b[39m \u001b[38;5;28;01mimport\u001b[39;00m\u001b[38;5;250m \u001b[39m\u001b[34;01mseaborn\u001b[39;00m\u001b[38;5;250m \u001b[39m\u001b[38;5;28;01mas\u001b[39;00m\u001b[38;5;250m \u001b[39m\u001b[34;01msns\u001b[39;00m\n",
      "\u001b[31mModuleNotFoundError\u001b[39m: No module named 'pandas'"
     ]
    }
   ],
   "source": [
    "import pandas as pd\n",
    "import os\n",
    "import seaborn as sns\n",
    "import matplotlib.pyplot as plt\n",
    "from tabulate import tabulate"
   ]
  },
  {
   "cell_type": "code",
   "execution_count": null,
   "metadata": {},
   "outputs": [],
   "source": [
    "os.chdir(\"c:\\\\Users\\\\Charl\\\\OneDrive\\\\桌面\\\\Machine Learning\\\\MATH-244-Project1\")"
   ]
  },
  {
   "cell_type": "code",
   "execution_count": null,
   "metadata": {},
   "outputs": [],
   "source": [
    "data = pd.read_csv(\"Data/German Credit/data/german_credit_data.csv\")"
   ]
  },
  {
   "cell_type": "code",
   "execution_count": null,
   "metadata": {},
   "outputs": [],
   "source": [
    "data.head()"
   ]
  },
  {
   "cell_type": "markdown",
   "metadata": {},
   "source": [
    "## Exploring the Data\n",
    "\n",
    "1. What is your outcome variables? How well does it measure the outcomes you are interested? How does it relate to your expectations? \n",
    "\n",
    "The outcome variable is going to be the target in the dataset. It is a binary variable that describes whether the person has a good or bad credit classification with 1 indicating bad and 2 indicating good. Although in real life scenarios, the credit of a person should not be arbitarily classified as Good or Bad, we'd like to use this simple set up first to try out the machine learning algorithms in binary classification tasks. \n",
    "\n",
    "2. What are your key explanatory variables? \n",
    "\n",
    "We are actually planning to use all the of the 20 attributes as our independent variables for the prediction model to use."
   ]
  },
  {
   "cell_type": "code",
   "execution_count": null,
   "metadata": {},
   "outputs": [],
   "source": [
    "Attribute3 = pd.DataFrame(data[\"Attribute3\"].value_counts())\n",
    "print(tabulate(Attribute3, headers=[\"Credit History\", \"Counts\"]))"
   ]
  },
  {
   "cell_type": "code",
   "execution_count": null,
   "metadata": {},
   "outputs": [],
   "source": [
    "Attribute5 = pd.DataFrame(data[\"Attribute5\"]).describe()\n",
    "print(tabulate(Attribute5, headers=[\"Measurement\", \"Credit Amount\"]))"
   ]
  },
  {
   "cell_type": "markdown",
   "metadata": {},
   "source": [
    "## Data Wrangling and Transformation\n",
    "\n",
    "1. What data cleaning did you have to do? How did you wrangle the data? Are you deciding to exclude any observations? \n",
    "\n",
    "We did not do any data clearning or data wrangling cause the dataset is already super clean. We also did not exclude any observations because there is not a good reason to. \n",
    "\n",
    "2. Did you have to create any new variables from existing variables? \n",
    "\n",
    "Yes. We are creating Attribute21 as Credit amount per month from Attribute2 (Duration in Months) and Attribute5 (Credit Amounts). We did this because we believe that people that has a higher duration in month tend to have higher credit amounts. Therefore, a fair statistic should be the average amount of credit per month. "
   ]
  },
  {
   "cell_type": "code",
   "execution_count": null,
   "metadata": {},
   "outputs": [],
   "source": [
    "data[\"Attribute21\"] = data[\"Attribute5\"] / data[\"Attribute2\"]\n",
    "data.head()"
   ]
  },
  {
   "cell_type": "markdown",
   "metadata": {},
   "source": [
    "## Data Visualization"
   ]
  },
  {
   "cell_type": "code",
   "execution_count": null,
   "metadata": {},
   "outputs": [],
   "source": [
    "plt.figure(figsize=(8, 5))\n",
    "sns.scatterplot(data=data, x=\"Attribute2\", y=\"Attribute5\", hue=\"target\", palette=\"viridis\", legend=True)\n",
    "\n",
    "plt.xlabel(\"Time Duration (Months)\")\n",
    "plt.ylabel(\"Credit Amount\")\n",
    "plt.title(\"Credit Amount by Time Duration and Target Category\")\n",
    "plt.show()"
   ]
  },
  {
   "cell_type": "code",
   "execution_count": null,
   "metadata": {},
   "outputs": [],
   "source": [
    "plt.figure(figsize=(8, 5))\n",
    "sns.boxplot(data=data, x=\"target\", y=\"Attribute13\", palette=\"viridis\")\n",
    "\n",
    "plt.xlabel(\"Target Category\")\n",
    "plt.ylabel(\"Age\")\n",
    "plt.title(\"Boxplot of Age by Target Category\")\n",
    "plt.show()\n"
   ]
  },
  {
   "cell_type": "code",
   "execution_count": null,
   "metadata": {},
   "outputs": [],
   "source": [
    "job_counts = data.groupby(['Attribute17', 'Attribute20']).size().reset_index(name='count')\n",
    "job_counts['Attribute17'] = job_counts['Attribute17'].replace({'A171': 'Unemployed / Unskilled - Non-resident', 'A172': 'Unskilled - Resident', 'A173': 'Skilled employee / Official', 'A174':'Management / Self-employed / Highly qualified employee / Officer'})\n",
    "job_counts['Attribute20'] = job_counts['Attribute20'].replace({'A201': 'Foreign Worker', 'A202':'Non-foreign Worker'})\n",
    "\n",
    "plt.figure(figsize=(12, 6))\n",
    "ax = sns.barplot(\n",
    "    data=job_counts,\n",
    "    x='Attribute17',\n",
    "    y='count',\n",
    "    hue='Attribute20',\n",
    "    palette='Set2'\n",
    ")\n",
    "ax.set_yscale(\"log\")\n",
    "plt.xlabel(\"Job Category\", fontsize=12)\n",
    "plt.ylabel(\"Log-Scaled Count\", fontsize=12)\n",
    "plt.title(\"Number of Jobs by Foreign Worker Status\", fontsize=14, weight='bold')\n",
    "plt.xticks(rotation=30, ha='right')\n",
    "plt.tight_layout()\n",
    "plt.legend(title=\"Worker Status\", bbox_to_anchor=(1.05, 1), loc='upper left')\n",
    "plt.show()\n"
   ]
  },
  {
   "cell_type": "code",
   "execution_count": null,
   "metadata": {},
   "outputs": [],
   "source": [
    "purpose_counts = data.groupby(['Attribute4', 'target']).size().reset_index(name='count')\n",
    "df_target1 = purpose_counts[purpose_counts[\"target\"] == 1]\n",
    "df_target2 = purpose_counts[purpose_counts[\"target\"] == 2]\n",
    "\n",
    "colors_target1 = sns.color_palette(\"viridis\", len(df_target1))\n",
    "colors_target2 = sns.color_palette(\"viridis\", len(df_target2))\n",
    "\n",
    "fig, axes = plt.subplots(1, 2, figsize=(12, 6))\n",
    "\n",
    "axes[0].pie(df_target1[\"count\"], labels=df_target1[\"Attribute4\"], autopct='%1.1f%%', startangle=140, colors=colors_target1)\n",
    "axes[0].set_title(\"Target 1 Distribution\")\n",
    "\n",
    "axes[1].pie(df_target2[\"count\"], labels=df_target2[\"Attribute4\"], autopct='%1.1f%%', startangle=140, colors=colors_target2)\n",
    "axes[1].set_title(\"Target 2 Distribution\")\n",
    "\n",
    "plt.tight_layout()\n",
    "plt.show()"
   ]
  }
 ],
 "metadata": {
  "kernelspec": {
   "display_name": "Python 3",
   "language": "python",
   "name": "python3"
  },
  "language_info": {
   "codemirror_mode": {
    "name": "ipython",
    "version": 3
   },
   "file_extension": ".py",
   "mimetype": "text/x-python",
   "name": "python",
   "nbconvert_exporter": "python",
   "pygments_lexer": "ipython3",
   "version": "3.12.6"
  }
 },
 "nbformat": 4,
 "nbformat_minor": 2
}
