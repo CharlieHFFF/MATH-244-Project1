{
 "cells": [
  {
   "cell_type": "code",
   "execution_count": null,
   "metadata": {},
   "outputs": [],
   "source": [
    "pip install yfinance"
   ]
  },
  {
   "cell_type": "code",
   "execution_count": null,
   "metadata": {},
   "outputs": [],
   "source": [
    "import yfinance as yf\n",
    "import pandas as pd\n",
    "\n",
    "# define the ticker symbol for DJIA\n",
    "ticker_symbol = '^DJI'\n",
    "\n",
    "# create a Ticker object\n",
    "ticker = yf.Ticker(ticker_symbol)\n",
    "\n",
    "# define the start and end dates for the historical data\n",
    "start_date = '2016-01-01'\n",
    "end_date = '2025-12-31'\n",
    "\n",
    "# fetch the historical data\n",
    "historical_data = ticker.history(start=start_date, end=end_date)\n",
    "\n",
    "# remove 'Dividends' and 'Stock Splits' columns\n",
    "historical_data = historical_data.drop(columns=['Dividends', 'Stock Splits'])\n",
    "\n",
    "# reset index to make 'Date' a regular column and format it without time\n",
    "historical_data.reset_index(inplace=True)\n",
    "historical_data['Date'] = historical_data['Date'].dt.date  # Keep only the date\n",
    "\n",
    "# save the cleaned data to a CSV file\n",
    "csv_filename = 'djia_historical_data.csv'\n",
    "historical_data.to_csv(csv_filename, index=False)\n",
    "\n",
    "# provide a download link for the CSV file\n",
    "from google.colab import files\n",
    "files.download(csv_filename)"
   ]
  }
 ],
 "metadata": {
  "language_info": {
   "name": "python"
  }
 },
 "nbformat": 4,
 "nbformat_minor": 2
}
